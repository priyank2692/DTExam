{
 "cells": [
  {
   "cell_type": "code",
   "execution_count": 35,
   "id": "6531fc66-7033-41cb-90e1-9d26c5696df0",
   "metadata": {},
   "outputs": [
    {
     "name": "stdout",
     "output_type": "stream",
     "text": [
      "54\n"
     ]
    }
   ],
   "source": [
    "#Question 1: create the dictionary given below and print the value of key \"Virat\" from the below dictionary.\n",
    "\n",
    "sampleDict={\n",
    "    \"Country\":{\n",
    "        \"name\":[\"Rohit, Virat\",\"Rahul\",\"Shami\",\"Bumrah\"],\n",
    "        \"Runs\":{\n",
    "            \"Rohit\":47,\n",
    "            \"Virat\":54,\n",
    "            \"Rahul\":66\n",
    "        }\n",
    "    }\n",
    "}\n",
    "\n",
    "print(sampleDict[\"Country\"][\"Runs\"][\"Virat\"])\n",
    "    "
   ]
  },
  {
   "cell_type": "code",
   "execution_count": 25,
   "id": "a19a8e99-eecb-4422-962b-9e7a322c8f92",
   "metadata": {},
   "outputs": [
    {
     "name": "stdout",
     "output_type": "stream",
     "text": [
      "False\n"
     ]
    }
   ],
   "source": [
    "#Question 2: Write a python program to check if value 2700 exists in the following dictionary.\n",
    "\n",
    "sample_dict={'a':100,'b':2800, 'c':300}\n",
    "\n",
    "print(sample_dict.values() ==2700)\n"
   ]
  },
  {
   "cell_type": "code",
   "execution_count": 29,
   "id": "d00f7339-d002-4113-b161-1d6a7e592901",
   "metadata": {},
   "outputs": [
    {
     "name": "stdout",
     "output_type": "stream",
     "text": [
      "{'Siraj', 'Kapil', 'Sehwag', 'Surya', 'Sachin', 'MSD'}\n"
     ]
    }
   ],
   "source": [
    "#Question 3: Write a program to add a list of elements into a given set.\n",
    "\n",
    "sample_set={\"Surya\",\"Kapil\",\"MSD\"}\n",
    "sample_list=[\"Sachin\", \"Siraj\",\"Sehwag\"]\n",
    "\n",
    "sample_set.update(sample_list)\n",
    "\n",
    "print (sample_set)\n"
   ]
  },
  {
   "cell_type": "code",
   "execution_count": 30,
   "id": "915bee4b-b2fb-4812-9083-94168d881ff9",
   "metadata": {},
   "outputs": [
    {
     "name": "stdout",
     "output_type": "stream",
     "text": [
      "{40, 50, 30}\n"
     ]
    }
   ],
   "source": [
    "#Question 4: Write a python program to return a new set of identical items from two sets\n",
    "\n",
    "set1={10,20,30,40,50}\n",
    "set2={30,40,50,60,70}\n",
    "\n",
    "print(set1.intersection(set2))"
   ]
  },
  {
   "cell_type": "code",
   "execution_count": 48,
   "id": "bc422f5d-ea84-4f56-9e59-1b10b1c9c0fc",
   "metadata": {},
   "outputs": [
    {
     "name": "stdout",
     "output_type": "stream",
     "text": [
      "[1, 4, 9, 16, 25, 36, 49]\n"
     ]
    }
   ],
   "source": [
    "#Question 5: Given a list of numbers. Write a program to turn every item of a list into its square.\n",
    "\n",
    "numbers =[1,2,3,4,5,6,7]\n",
    "def square(n):\n",
    "    return n*n\n",
    "\n",
    "squarelist=map(square,numbers)\n",
    "print(list(squarelist))    \n"
   ]
  },
  {
   "cell_type": "code",
   "execution_count": 53,
   "id": "6cf8d5d4-afbb-4027-b14d-e5311e17dfe9",
   "metadata": {},
   "outputs": [
    {
     "name": "stdout",
     "output_type": "stream",
     "text": [
      "[10, 20, [300, 400, [5000, 6000, 7000], 500], 30, 40]\n"
     ]
    }
   ],
   "source": [
    "#Question 6: Write a program to add item 7000 after 6000 in the following Python list.\n",
    "\n",
    "list1=[10,20,[300,400,[5000,6000],500],30,40]\n",
    "\n",
    "list1[2][2].append(7000)\n",
    "\n",
    "print(list1)\n"
   ]
  },
  {
   "cell_type": "code",
   "execution_count": null,
   "id": "879fa044-ad66-4957-999d-85aa0bfb44f8",
   "metadata": {},
   "outputs": [],
   "source": []
  }
 ],
 "metadata": {
  "kernelspec": {
   "display_name": "Python 3 (ipykernel)",
   "language": "python",
   "name": "python3"
  },
  "language_info": {
   "codemirror_mode": {
    "name": "ipython",
    "version": 3
   },
   "file_extension": ".py",
   "mimetype": "text/x-python",
   "name": "python",
   "nbconvert_exporter": "python",
   "pygments_lexer": "ipython3",
   "version": "3.11.7"
  }
 },
 "nbformat": 4,
 "nbformat_minor": 5
}
